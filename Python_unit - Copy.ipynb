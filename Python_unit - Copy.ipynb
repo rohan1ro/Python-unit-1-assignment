{
 "cells": [
  {
   "cell_type": "code",
   "execution_count": 10,
   "id": "d7cb2436-6476-48a1-a33c-77f461897adb",
   "metadata": {},
   "outputs": [
    {
     "name": "stdout",
     "output_type": "stream",
     "text": [
      "Hello,Python World\n"
     ]
    }
   ],
   "source": [
    "# Open IDLE and write a Python script that prints \"Hello, Python World!\".\n",
    "\n",
    "print(\"Hello,Python World\")"
   ]
  },
  {
   "cell_type": "code",
   "execution_count": 11,
   "id": "20e50ce6-58cf-4b1b-834f-a11fa4690cf9",
   "metadata": {},
   "outputs": [
    {
     "name": "stdin",
     "output_type": "stream",
     "text": [
      "Enter your first name  Rohan\n",
      "Enter your last name Pandey\n"
     ]
    },
    {
     "name": "stdout",
     "output_type": "stream",
     "text": [
      "Pandey Rohan\n"
     ]
    }
   ],
   "source": [
    "# Part 2\n",
    "# Basic python syntax\n",
    "# String operation\n",
    "\n",
    "First_name = input(\"Enter your first name \")\n",
    "Last_name = input(\"Enter your last name\")\n",
    "print(Last_name+\" \"+First_name)\n"
   ]
  },
  {
   "cell_type": "code",
   "execution_count": 3,
   "id": "f27fff98-3ac7-4840-86f1-70be2f2afeab",
   "metadata": {},
   "outputs": [
    {
     "name": "stdin",
     "output_type": "stream",
     "text": [
      "Enter a number:  20\n"
     ]
    },
    {
     "name": "stdout",
     "output_type": "stream",
     "text": [
      "Integer value: 20\n",
      "Float value: 20.0\n",
      "Complex value:  (20+0j)\n"
     ]
    }
   ],
   "source": [
    "# Write a Python program that takes an input number from the user, converts it to different numeric data types (integer, float, and complex), and displays the converted values\n",
    "\n",
    "\n",
    "\n",
    "# Taking input from the user\n",
    "user_input = input(\"Enter a number: \")\n",
    "\n",
    "float_value = float(user_input)\n",
    "int_value = int(float_value)\n",
    "complex_value = complex(float_value)\n",
    "\n",
    "# converting values\n",
    "print(\"Integer value:\", int_value)\n",
    "print(\"Float value:\" ,float_value)\n",
    "print(\"Complex value: \",complex_value)"
   ]
  },
  {
   "cell_type": "code",
   "execution_count": 4,
   "id": "bc541d7a-667d-4828-ad40-49cd266df264",
   "metadata": {},
   "outputs": [
    {
     "name": "stdin",
     "output_type": "stream",
     "text": [
      "Enter the length of the rectangle:  5\n",
      "Enter the width of the rectangle:  2\n"
     ]
    },
    {
     "name": "stdout",
     "output_type": "stream",
     "text": [
      "The area of the rectangle is: 10.0\n"
     ]
    }
   ],
   "source": [
    "# finding area of a rectangle\n",
    "\n",
    "\n",
    "length = float(input(\"Enter the length of the rectangle: \"))\n",
    "\n",
    "width = float(input(\"Enter the width of the rectangle: \"))\n",
    "# formula of area\n",
    "area = length * width\n",
    "\n",
    "print(\"The area of the rectangle is:\" ,area)\n",
    "\n",
    "\n"
   ]
  },
  {
   "cell_type": "code",
   "execution_count": 5,
   "id": "e5e7a86d-64ac-4de6-9c23-f3a1bde31ca3",
   "metadata": {},
   "outputs": [
    {
     "name": "stdin",
     "output_type": "stream",
     "text": [
      "Enter the width of the rectangle:  2\n",
      "Enter the height of the rectangle:  4\n"
     ]
    },
    {
     "name": "stdout",
     "output_type": "stream",
     "text": [
      "The area of the rectangle is: 8.00\n"
     ]
    }
   ],
   "source": [
    "# Modify the rectangle area program to format the output so that it displays the area with two decimal places.\n",
    "\n",
    "width = float(input(\"Enter the width of the rectangle: \"))\n",
    "height = float(input(\"Enter the height of the rectangle: \"))\n",
    "\n",
    "area = width * height\n",
    "print(\"The area of the rectangle is: {:.2f}\".format(area))"
   ]
  },
  {
   "cell_type": "code",
   "execution_count": 1,
   "id": "da29f756-d8dc-436b-b166-bad47e300a9a",
   "metadata": {},
   "outputs": [
    {
     "name": "stdin",
     "output_type": "stream",
     "text": [
      "Enter the first number:  2\n",
      "Enter the second number:  3\n",
      "Enter the third number:  4\n"
     ]
    },
    {
     "name": "stdout",
     "output_type": "stream",
     "text": [
      "The average of the three numbers is: 3.00\n"
     ]
    }
   ],
   "source": [
    "# The % Method and print Function\n",
    "\n",
    "number1 = float(input(\"Enter the first number: \"))\n",
    "number2 = float(input(\"Enter the second number: \"))\n",
    "number3 = float(input(\"Enter the third number: \"))\n",
    "\n",
    "\n",
    "average = (number1 + number2 + number3) / 3\n",
    "print(\"The average of the three numbers is: %.2f\" % average)\n"
   ]
  },
  {
   "cell_type": "code",
   "execution_count": 8,
   "id": "cb50d061-bdaf-4d24-bf87-fd1fd8cad52e",
   "metadata": {},
   "outputs": [
    {
     "name": "stdin",
     "output_type": "stream",
     "text": [
      "Enter a number (or type 'exit' to quit):  5\n"
     ]
    },
    {
     "name": "stdout",
     "output_type": "stream",
     "text": [
      "The number is positive.\n"
     ]
    },
    {
     "name": "stdin",
     "output_type": "stream",
     "text": [
      "Enter a number (or type 'exit' to quit):  exit\n"
     ]
    },
    {
     "name": "stdout",
     "output_type": "stream",
     "text": [
      "the program has overed. bye!\n"
     ]
    }
   ],
   "source": [
    "# Control Flow (if Statements and Loops)\n",
    "\n",
    "while True:\n",
    "    \n",
    "    a = input(\"Enter a number (or type 'exit' to quit): \")\n",
    "\n",
    "    \n",
    "    if a.lower() == 'exit':\n",
    "        print(\"the program has overed. bye!\")\n",
    "        break\n",
    "\n",
    "    try:\n",
    "        number = float(a)\n",
    "        if number > 0:\n",
    "            print(\"The number is positive.\")\n",
    "        elif number < 0:\n",
    "            print(\"The number is negative.\")\n",
    "        else:\n",
    "            print(\"The number is zero.\")\n",
    "    except ValueError:\n",
    "        print(\"Invalid input. Please enter a valid number or type 'exit' to quit.\")\n"
   ]
  },
  {
   "cell_type": "code",
   "execution_count": 9,
   "id": "fc332747-fab0-49ff-8ded-229b70cd8d0f",
   "metadata": {},
   "outputs": [
    {
     "name": "stdin",
     "output_type": "stream",
     "text": [
      "Enter the first number:  2\n",
      "Enter the second number:  3\n"
     ]
    },
    {
     "name": "stdout",
     "output_type": "stream",
     "text": [
      "One number is even, and the other is odd.\n"
     ]
    }
   ],
   "source": [
    "# Create a Python script that takes two numbers as input and prints whether both numbers are even, odd, or one of each using relational and logical operators.\n",
    "\n",
    "\n",
    "a1 = int(input(\"Enter the first number: \"))\n",
    "a2 = int(input(\"Enter the second number: \"))\n",
    "\n",
    "\n",
    "if a1 % 2 == 0 and a2 % 2 == 0:\n",
    "    print(\"Both numbers are even.\")\n",
    "\n",
    "elif a1 % 2 != 0 and a2 % 2 != 0:\n",
    "    print(\"Both numbers are odd.\")\n",
    "\n",
    "else:\n",
    "    print(\"One number is even, and the other is odd.\")\n"
   ]
  },
  {
   "cell_type": "code",
   "execution_count": 12,
   "id": "39893044-ba1a-47aa-bb9a-106ccfb3ad25",
   "metadata": {},
   "outputs": [
    {
     "name": "stdin",
     "output_type": "stream",
     "text": [
      "Enter an integer:  45\n"
     ]
    },
    {
     "name": "stdout",
     "output_type": "stream",
     "text": [
      "Binary equivalent: 101101\n",
      "Octal equivalent: 55\n",
      "Hexadecimal equivalent: 2D\n"
     ]
    }
   ],
   "source": [
    "\n",
    "# Write a Python program that takes an integer input and prints its binary, octal, and hexadecimal equivalents using a for loop and bitwise operators.\n",
    "\n",
    "a = int(input(\"Enter an integer: \"))\n",
    "\n",
    "results = {\n",
    "    'Binary': '',\n",
    "    'Octal': '',\n",
    "    'Hexadecimal': ''\n",
    "}\n",
    "\n",
    "bases = [2, 8, 16]\n",
    "base_names = ['Binary', 'Octal', 'Hexadecimal']\n",
    "\n",
    "\n",
    "for base, name in zip(bases, base_names):\n",
    "    result = ''\n",
    "    num = a\n",
    "    \n",
    "    # Continue until all bits are processed\n",
    "    while num > 0:\n",
    "        remainder = num % base\n",
    "        num = num // base\n",
    "        \n",
    "    \n",
    "        if base == 16 and remainder >= 10:\n",
    "            remainder = chr(55 + remainder)  \n",
    "            \n",
    "        result = str(remainder) + result\n",
    "    \n",
    "    \n",
    "    results[name] = result if result else '0'  # Handle zero case\n",
    "\n",
    "\n",
    "print(f\"Binary equivalent: {results['Binary']}\")\n",
    "print(f\"Octal equivalent: {results['Octal']}\")\n",
    "print(f\"Hexadecimal equivalent: {results['Hexadecimal']}\")\n"
   ]
  },
  {
   "cell_type": "code",
   "execution_count": null,
   "id": "8ea971c6-8457-415c-810a-e2e49684dfb0",
   "metadata": {},
   "outputs": [],
   "source": []
  }
 ],
 "metadata": {
  "kernelspec": {
   "display_name": "Python 3 (ipykernel)",
   "language": "python",
   "name": "python3"
  },
  "language_info": {
   "codemirror_mode": {
    "name": "ipython",
    "version": 3
   },
   "file_extension": ".py",
   "mimetype": "text/x-python",
   "name": "python",
   "nbconvert_exporter": "python",
   "pygments_lexer": "ipython3",
   "version": "3.12.0"
  }
 },
 "nbformat": 4,
 "nbformat_minor": 5
}
